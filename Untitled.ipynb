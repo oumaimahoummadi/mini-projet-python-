{
 "cells": [
  {
   "cell_type": "markdown",
   "id": "800e2d3a-246c-455d-ac66-dfce63d36d50",
   "metadata": {},
   "source": [
    "## Partie 1"
   ]
  },
  {
   "cell_type": "code",
   "execution_count": 58,
   "id": "253565cc-0c99-452f-9a49-ade494dffff0",
   "metadata": {},
   "outputs": [],
   "source": [
    "# importer la bibliothèque pandas\n",
    "import pandas as pd"
   ]
  },
  {
   "cell_type": "code",
   "execution_count": 59,
   "id": "7bae2e9d-43b7-4016-9340-7c23c7b07f8c",
   "metadata": {},
   "outputs": [
    {
     "name": "stdout",
     "output_type": "stream",
     "text": [
      "                 Pays           Age         Genre Dépenses des clients\n",
      "0              France             32       Female               150.50\n",
      "1             Germany             45         Male               200.75\n",
      "2               Spain             28       Female                75.25\n",
      "3               Italy             39         Male               180.00\n",
      "4                  UK             52       Female               250.30\n",
      "..                ...            ...          ...                  ...\n",
      "60      Digital Realm            NaN           AI           1010101.01\n",
      "61         Multiverse              ∞   Non-Binary                    π\n",
      "62              Error        #VALUE!          404              #DIV/0!\n",
      "63      Greece, Italy          25;30  Male;Female              100+200\n",
      "64   United  Kingdom   Not Available        Other            Priceless\n",
      "\n",
      "[65 rows x 4 columns]\n"
     ]
    }
   ],
   "source": [
    "# Lire le fichier CSV  ‘dataset-sell4all.csv’\n",
    "df=pd.read_csv(\"data-sell4all.csv\")\n",
    "print(df)"
   ]
  },
  {
   "cell_type": "code",
   "execution_count": 60,
   "id": "c1be7a3c-58f2-46fb-b97b-848610daa107",
   "metadata": {},
   "outputs": [
    {
     "name": "stdout",
     "output_type": "stream",
     "text": [
      "      Pays  Age    Genre Dépenses des clients\n",
      "0   France    32  Female               150.50\n",
      "1  Germany    45    Male               200.75\n",
      "2    Spain    28  Female                75.25\n",
      "3    Italy    39    Male               180.00\n",
      "4       UK    52  Female               250.30\n"
     ]
    }
   ],
   "source": [
    "# Afficher les 5 premières lignes\n",
    "print(df.head())"
   ]
  },
  {
   "cell_type": "code",
   "execution_count": 61,
   "id": "9d925a4d-fce5-4509-9e91-c01ad81cbe01",
   "metadata": {},
   "outputs": [
    {
     "data": {
      "text/html": [
       "<div>\n",
       "<style scoped>\n",
       "    .dataframe tbody tr th:only-of-type {\n",
       "        vertical-align: middle;\n",
       "    }\n",
       "\n",
       "    .dataframe tbody tr th {\n",
       "        vertical-align: top;\n",
       "    }\n",
       "\n",
       "    .dataframe thead th {\n",
       "        text-align: right;\n",
       "    }\n",
       "</style>\n",
       "<table border=\"1\" class=\"dataframe\">\n",
       "  <thead>\n",
       "    <tr style=\"text-align: right;\">\n",
       "      <th></th>\n",
       "      <th>Pays</th>\n",
       "      <th>Age</th>\n",
       "      <th>Genre</th>\n",
       "      <th>Dépenses des clients</th>\n",
       "    </tr>\n",
       "  </thead>\n",
       "  <tbody>\n",
       "    <tr>\n",
       "      <th>0</th>\n",
       "      <td>France</td>\n",
       "      <td>32</td>\n",
       "      <td>Female</td>\n",
       "      <td>150.50</td>\n",
       "    </tr>\n",
       "    <tr>\n",
       "      <th>1</th>\n",
       "      <td>Germany</td>\n",
       "      <td>45</td>\n",
       "      <td>Male</td>\n",
       "      <td>200.75</td>\n",
       "    </tr>\n",
       "    <tr>\n",
       "      <th>2</th>\n",
       "      <td>Spain</td>\n",
       "      <td>28</td>\n",
       "      <td>Female</td>\n",
       "      <td>75.25</td>\n",
       "    </tr>\n",
       "    <tr>\n",
       "      <th>3</th>\n",
       "      <td>Italy</td>\n",
       "      <td>39</td>\n",
       "      <td>Male</td>\n",
       "      <td>180.00</td>\n",
       "    </tr>\n",
       "    <tr>\n",
       "      <th>4</th>\n",
       "      <td>UK</td>\n",
       "      <td>52</td>\n",
       "      <td>Female</td>\n",
       "      <td>250.30</td>\n",
       "    </tr>\n",
       "  </tbody>\n",
       "</table>\n",
       "</div>"
      ],
      "text/plain": [
       "      Pays  Age    Genre Dépenses des clients\n",
       "0   France    32  Female               150.50\n",
       "1  Germany    45    Male               200.75\n",
       "2    Spain    28  Female                75.25\n",
       "3    Italy    39    Male               180.00\n",
       "4       UK    52  Female               250.30"
      ]
     },
     "execution_count": 61,
     "metadata": {},
     "output_type": "execute_result"
    }
   ],
   "source": [
    "# Afficher les 5 premières lignes\n",
    "df.iloc[0:5,:]"
   ]
  },
  {
   "cell_type": "code",
   "execution_count": 62,
   "id": "46990004-099f-4923-9b0a-f223c20a26a7",
   "metadata": {},
   "outputs": [
    {
     "name": "stdout",
     "output_type": "stream",
     "text": [
      "65\n"
     ]
    }
   ],
   "source": [
    "# Affichage du nombre de lignes dans le DataFrame df\n",
    "print(len(df))"
   ]
  },
  {
   "cell_type": "code",
   "execution_count": 63,
   "id": "d9b594ae-917a-4dc9-b641-673597bb0a8c",
   "metadata": {},
   "outputs": [
    {
     "name": "stdout",
     "output_type": "stream",
     "text": [
      "Index(['Pays', ' Age ', 'Genre', 'Dépenses des clients'], dtype='object')\n"
     ]
    }
   ],
   "source": [
    "# Affichage les colonnes du DataFrame df\n",
    "print(df.columns)"
   ]
  },
  {
   "cell_type": "code",
   "execution_count": 64,
   "id": "4d46ec32-aff0-4691-ae64-df126520590b",
   "metadata": {},
   "outputs": [
    {
     "name": "stdout",
     "output_type": "stream",
     "text": [
      "Pays                    object\n",
      " Age                    object\n",
      "Genre                   object\n",
      "Dépenses des clients    object\n",
      "dtype: object\n"
     ]
    }
   ],
   "source": [
    "# Affichage des types de données des colonnes du DataFrame df\n",
    "print(df.dtypes)"
   ]
  },
  {
   "cell_type": "markdown",
   "id": "fc2525fd-1cc9-4236-8849-ca3fe945f9b3",
   "metadata": {},
   "source": [
    "### Expliquer les détails affichés du résumé technique:\n",
    "\n",
    "Le DataFrame est affiché sous forme de tableau avec des lignes et des colonnes. \n",
    ">À gauche du tableau, on a les indices, qui sont les numéros de ligne (0, 1, 2, 3, 4,...)\n",
    "\n",
    ">Les noms des colonnes sont affichés a l'En-têtes du tableau,pour comprendre quel type de données chaque colonne contient('Nom', 'Age', 'Dépenses des clients')\n",
    "\n",
    "\n",
    "**Nombre de Lignes :** Cette commande $print(len(df))$ calcule et affiche le nombre total de lignes dans le DataFrame.\n",
    "\n",
    "**Colonnes du DataFrame :** Cette commande $print(df.columns)$ liste les noms des colonnes du DataFrame.  \n",
    "\n",
    "**Types de Données des Colonnes :** Cette commande $print(df.dtypes)$ affiche les types de données associés à chaque colonne du DataFrame.                                                 \n",
    "\n",
    ">toutes les donnees de cette DataFrame de type 'object' cela signifie que pandas traite les valeurs comme des chaînes de caractères"
   ]
  },
  {
   "cell_type": "code",
   "execution_count": 116,
   "id": "6f2767e7-b3ff-4de3-b8a5-628d762c1b94",
   "metadata": {},
   "outputs": [],
   "source": [
    "# Calculer la médiane et la moyenne des colonnes :\n",
    "# « Âge »"
   ]
  },
  {
   "cell_type": "code",
   "execution_count": 66,
   "id": "63b73765-2ef4-428f-b366-246cc127ed0f",
   "metadata": {},
   "outputs": [
    {
     "name": "stdout",
     "output_type": "stream",
     "text": [
      "0                32\n",
      "1                45\n",
      "2                28\n",
      "3                39\n",
      "4                52\n",
      "          ...      \n",
      "60              NaN\n",
      "61                ∞\n",
      "62          #VALUE!\n",
      "63            25;30\n",
      "64    Not Available\n",
      "Name:  Age , Length: 65, dtype: object\n"
     ]
    }
   ],
   "source": [
    "print(df[\" Age \"])"
   ]
  },
  {
   "cell_type": "code",
   "execution_count": 67,
   "id": "4cf395a5-c7cc-4409-b0eb-64fef7cf4e69",
   "metadata": {},
   "outputs": [],
   "source": [
    "# pour faire un calcul il faut premièrement remplacer les valeurs non numériques par des zéro\n",
    "df[\" Age \"] = pd.to_numeric(df[\" Age \"], errors='coerce').fillna(0)"
   ]
  },
  {
   "cell_type": "code",
   "execution_count": 68,
   "id": "fd6587da-812f-42c2-8782-7db93b5f97c3",
   "metadata": {},
   "outputs": [
    {
     "name": "stdout",
     "output_type": "stream",
     "text": [
      "0     32.0\n",
      "1     45.0\n",
      "2     28.0\n",
      "3     39.0\n",
      "4     52.0\n",
      "      ... \n",
      "60     0.0\n",
      "61     0.0\n",
      "62     0.0\n",
      "63     0.0\n",
      "64     0.0\n",
      "Name:  Age , Length: 65, dtype: float64\n"
     ]
    }
   ],
   "source": [
    "print(df[\" Age \"])"
   ]
  },
  {
   "cell_type": "code",
   "execution_count": 69,
   "id": "e2c23c1d-1b35-4557-a44f-b1dda251a8ff",
   "metadata": {},
   "outputs": [
    {
     "name": "stdout",
     "output_type": "stream",
     "text": [
      "la médiane est 35.0\n",
      "la moyenne est 47.58461538461538\n"
     ]
    }
   ],
   "source": [
    "# Calcul de la moyenne et de la médiane pour la colonne \"age\" \n",
    "print(\"la médiane est\",df[\" Age \"].median())\n",
    "print(\"la moyenne est\",df[\" Age \"].mean())"
   ]
  },
  {
   "cell_type": "code",
   "execution_count": 70,
   "id": "e6b1443f-9d12-46c1-9989-779e358dcf42",
   "metadata": {},
   "outputs": [],
   "source": [
    "# Calculer la médiane et la moyenne des colonnes :\n",
    "# « Dépenses des clients »"
   ]
  },
  {
   "cell_type": "code",
   "execution_count": 71,
   "id": "4d6f9dd6-f354-4eb2-a0ba-08bdb2f09928",
   "metadata": {},
   "outputs": [
    {
     "name": "stdout",
     "output_type": "stream",
     "text": [
      "0         150.50\n",
      "1         200.75\n",
      "2          75.25\n",
      "3         180.00\n",
      "4         250.30\n",
      "         ...    \n",
      "60    1010101.01\n",
      "61             π\n",
      "62       #DIV/0!\n",
      "63       100+200\n",
      "64     Priceless\n",
      "Name: Dépenses des clients, Length: 65, dtype: object\n"
     ]
    }
   ],
   "source": [
    "print(df[\"Dépenses des clients\"])"
   ]
  },
  {
   "cell_type": "code",
   "execution_count": 72,
   "id": "b608066d-71d7-4421-a33f-4b76920b682c",
   "metadata": {},
   "outputs": [],
   "source": [
    "# pour faire un calcul il faut premièrement remplacer les valeurs non numériques par des zéro\n",
    "df[\"Dépenses des clients\"] = pd.to_numeric(df[\"Dépenses des clients\"], errors='coerce').fillna(0)"
   ]
  },
  {
   "cell_type": "code",
   "execution_count": 73,
   "id": "f6b5e7b8-5813-4cb9-afc3-46dc095610ba",
   "metadata": {},
   "outputs": [
    {
     "name": "stdout",
     "output_type": "stream",
     "text": [
      "0         150.50\n",
      "1         200.75\n",
      "2          75.25\n",
      "3         180.00\n",
      "4         250.30\n",
      "         ...    \n",
      "60    1010101.01\n",
      "61          0.00\n",
      "62          0.00\n",
      "63          0.00\n",
      "64          0.00\n",
      "Name: Dépenses des clients, Length: 65, dtype: float64\n"
     ]
    }
   ],
   "source": [
    "print(df[\"Dépenses des clients\"])"
   ]
  },
  {
   "cell_type": "code",
   "execution_count": 74,
   "id": "0a5fccff-54fd-406b-81ae-436bc514e263",
   "metadata": {},
   "outputs": [
    {
     "name": "stdout",
     "output_type": "stream",
     "text": [
      "la médiane est 155.5\n",
      "la moyenne est 31062.774\n"
     ]
    }
   ],
   "source": [
    "# Calcul de la moyenne et de la médiane pour la colonne \"dépenses des clients\"\n",
    "print(\"la médiane est\",df[\"Dépenses des clients\"].median())\n",
    "print(\"la moyenne est\",df[\"Dépenses des clients\"].mean())"
   ]
  },
  {
   "cell_type": "markdown",
   "id": "9f30dd9c-aa03-40b4-b400-2375e8265a59",
   "metadata": {},
   "source": [
    "## Partie 2"
   ]
  },
  {
   "cell_type": "code",
   "execution_count": 89,
   "id": "eab3acaf-fd5e-4dde-85dd-ae180df4382c",
   "metadata": {},
   "outputs": [],
   "source": [
    "# importer la bibliothèque Matplotlib\n",
    "import matplotlib.pyplot as plt"
   ]
  },
  {
   "cell_type": "code",
   "execution_count": 90,
   "id": "fbde1f7a-2b45-492e-8c3f-b3e2887d3f01",
   "metadata": {},
   "outputs": [],
   "source": [
    "#Nettoyer les noms de pays\n",
    "df['Pays'] = df['Pays'].replace({ 'United  Kingdom': 'United Kingdom','UK': 'United Kingdom'})\n",
    "# Définir les pays valides \n",
    "pays_valides = [\"United Kingdom\", \"Australia\", \"Brazil\", \"Canada\", \"France\", \"Germany\", \"Italy\", \"Japan\", \"Spain\", \"USA\"]\n",
    "#filtrer les pays valides \n",
    "df_filtre = df[df['Pays'].isin(pays_valides)]"
   ]
  },
  {
   "cell_type": "code",
   "execution_count": 91,
   "id": "13ddd050-81b5-4844-8e99-c07628a86d2f",
   "metadata": {},
   "outputs": [],
   "source": [
    "# Nous allons regrouper les données par pays pour calculer le total des dépenses pour chaque pays\n",
    "#.groupby(\"Pays\")[\"Dépenses des clients\"] méthode pour regroupe les données du DataFrame\n",
    "#.sum() Cette méthode somme les valeurs de la colonne Dépenses pour chaque groupe du pays\n",
    "#.reset_index() Convertit le résultat en un DataFrame avec un index \n",
    "df_grouped= df_filtre.groupby(\"Pays\")[\"Dépenses des clients\"].sum().reset_index()"
   ]
  },
  {
   "cell_type": "code",
   "execution_count": 114,
   "id": "2644aa4e-ee47-412b-91dc-002c71e62240",
   "metadata": {},
   "outputs": [
    {
     "data": {
      "text/plain": [
       "Text(0.5, 0, 'Dépenses des clients')"
      ]
     },
     "execution_count": 114,
     "metadata": {},
     "output_type": "execute_result"
    },
    {
     "data": {
      "image/png": "[encoded data removed]",
      "text/plain": [
       "<Figure size 640x480 with 1 Axes>"
      ]
     },
     "metadata": {},
     "output_type": "display_data"
    }
   ],
   "source": [
    "# Création du graphique\n",
    "plt.plot(df_grouped[\"Pays\"],df_grouped[\"Dépenses des clients\"])\n",
    "plt.xlabel('Pays')\n",
    "plt.ylabel('Dépenses des clients')"
   ]
  },
  {
   "cell_type": "code",
   "execution_count": 107,
   "id": "55763c01-92fb-43f7-b281-877d56adf7ee",
   "metadata": {},
   "outputs": [
    {
     "name": "stdout",
     "output_type": "stream",
     "text": [
      "0         150.50\n",
      "1         200.75\n",
      "2          75.25\n",
      "3         180.00\n",
      "4         250.30\n",
      "5          90.00\n",
      "6         175.50\n",
      "7         120.75\n",
      "8          95.25\n",
      "9         220.00\n",
      "10        160.25\n",
      "11         85.50\n",
      "12        190.75\n",
      "13        140.00\n",
      "14        210.50\n",
      "15        130.25\n",
      "16        170.00\n",
      "18        200.25\n",
      "19        110.50\n",
      "20        180.75\n",
      "21        100.25\n",
      "22        230.00\n",
      "23        150.75\n",
      "24         80.50\n",
      "25        215.25\n",
      "26        145.00\n",
      "27        175.50\n",
      "28         70.25\n",
      "29        240.75\n",
      "30        165.00\n",
      "31        195.25\n",
      "32         85.75\n",
      "33        205.50\n",
      "34        135.25\n",
      "35        120.00\n",
      "36        225.75\n",
      "37        155.50\n",
      "38         90.25\n",
      "39        210.00\n",
      "40        170.25\n",
      "41        125.75\n",
      "42        190.00\n",
      "43         75.50\n",
      "44        220.25\n",
      "45        160.75\n",
      "46        185.00\n",
      "47        105.25\n",
      "48        235.50\n",
      "49        140.25\n",
      "50        180.00\n",
      "52        210.50\n",
      "53        145.75\n",
      "54        195.25\n",
      "55     999999.99\n",
      "57        500.00\n",
      "60    1010101.01\n",
      "Name: Dépenses des clients, dtype: float64\n"
     ]
    }
   ],
   "source": [
    "#supprimez toutes les lignes d’utilisateurs ayant dépensé moins de 10 € sur le site,\n",
    "df = df[df['Dépenses des clients'] >= 10]\n",
    "print(df['Dépenses des clients'])"
   ]
  },
  {
   "cell_type": "code",
   "execution_count": 109,
   "id": "d79fd638-349e-4def-be92-9bdcdc44f170",
   "metadata": {},
   "outputs": [
    {
     "name": "stdout",
     "output_type": "stream",
     "text": [
      "              Pays    Age       Genre  Dépenses des clients\n",
      "0           France    32.0     Female                150.50\n",
      "1          Germany    45.0       Male                200.75\n",
      "2            Spain    28.0     Female                 75.25\n",
      "3            Italy    39.0       Male                180.00\n",
      "4   United Kingdom    52.0     Female                250.30\n",
      "5           France    22.0       Male                 90.00\n",
      "6          Germany    36.0     Female                175.50\n",
      "7            Spain    41.0       Male                120.75\n",
      "8            Italy    29.0     Female                 95.25\n",
      "9   United Kingdom    48.0       Male                220.00\n",
      "10          France    35.0     Female                160.25\n",
      "11         Germany    27.0       Male                 85.50\n",
      "12           Spain    50.0     Female                190.75\n",
      "13           Italy    33.0       Male                140.00\n",
      "14  United Kingdom    44.0     Female                210.50\n",
      "15          France    31.0       Male                130.25\n",
      "16         Germany    38.0     Female                170.00\n",
      "18           Italy    47.0     Female                200.25\n",
      "19  United Kingdom    30.0       Male                110.50\n",
      "20          France    42.0        NaN                180.75\n",
      "21         Germany    29.0       Male                100.25\n",
      "22           Spain    55.0     Female                230.00\n",
      "23           Italy    36.0       Male                150.75\n",
      "24  United Kingdom    25.0     Female                 80.50\n",
      "25          France    49.0       Male                215.25\n",
      "26         Germany    34.0     Female                145.00\n",
      "27           Spain    40.0       Male                175.50\n",
      "28           Italy    23.0     Female                 70.25\n",
      "29  United Kingdom    51.0       Male                240.75\n",
      "30          France    37.0     Female                165.00\n",
      "31         Germany    43.0       Male                195.25\n",
      "32           Spain    28.0     Female                 85.75\n",
      "33           Italy    46.0       Male                205.50\n",
      "34  United Kingdom    33.0     Female                135.25\n",
      "35          France    30.0       Male                120.00\n",
      "36         Germany    52.0     Female                225.75\n",
      "37           Spain    35.0       Male                155.50\n",
      "38           Italy    27.0     Female                 90.25\n",
      "39  United Kingdom    48.0       Male                210.00\n",
      "40          France    39.0     Female                170.25\n",
      "41         Germany    31.0       Male                125.75\n",
      "42           Spain    44.0     Female                190.00\n",
      "43           Italy    25.0       Male                 75.50\n",
      "44  United Kingdom    50.0     Female                220.25\n",
      "45          France     0.0       Male                160.75\n",
      "46         Germany    41.0     Female                185.00\n",
      "47           Spain    29.0       Male                105.25\n",
      "48           Italy    53.0     Female                235.50\n",
      "49  United Kingdom    32.0       Male                140.25\n",
      "50             USA    28.0     Female                180.00\n",
      "52       Australia    39.0     Female                210.50\n",
      "53           Japan    33.0       Male                145.75\n",
      "54          Brazil    47.0     Female                195.25\n",
      "55            Mars  -100.0      Alien             999999.99\n",
      "57        Atlantis  1000.0  Merperson                500.00\n",
      "60   Digital Realm     0.0         AI            1010101.01\n"
     ]
    }
   ],
   "source": [
    "# Nettoyer les doublons \n",
    "df = df.drop_duplicates()\n",
    "print(df)"
   ]
  },
  {
   "cell_type": "code",
   "execution_count": 112,
   "id": "bfa21a33-bb42-4171-9b4a-bcc1b97030ce",
   "metadata": {},
   "outputs": [
    {
     "name": "stdout",
     "output_type": "stream",
     "text": [
      "              Pays    Age       Genre  Dépenses des clients\n",
      "0           France    32.0     Female                150.50\n",
      "1          Germany    45.0       Male                200.75\n",
      "2            Spain    28.0     Female                 75.25\n",
      "3            Italy    39.0       Male                180.00\n",
      "4   United Kingdom    52.0     Female                250.30\n",
      "5           France    22.0       Male                 90.00\n",
      "6          Germany    36.0     Female                175.50\n",
      "7            Spain    41.0       Male                120.75\n",
      "8            Italy    29.0     Female                 95.25\n",
      "9   United Kingdom    48.0       Male                220.00\n",
      "10          France    35.0     Female                160.25\n",
      "11         Germany    27.0       Male                 85.50\n",
      "12           Spain    50.0     Female                190.75\n",
      "13           Italy    33.0       Male                140.00\n",
      "14  United Kingdom    44.0     Female                210.50\n",
      "15          France    31.0       Male                130.25\n",
      "16         Germany    38.0     Female                170.00\n",
      "18           Italy    47.0     Female                200.25\n",
      "19  United Kingdom    30.0       Male                110.50\n",
      "20          France    42.0        NaN                180.75\n",
      "21         Germany    29.0       Male                100.25\n",
      "22           Spain    55.0     Female                230.00\n",
      "23           Italy    36.0       Male                150.75\n",
      "24  United Kingdom    25.0     Female                 80.50\n",
      "25          France    49.0       Male                215.25\n",
      "26         Germany    34.0     Female                145.00\n",
      "27           Spain    40.0       Male                175.50\n",
      "28           Italy    23.0     Female                 70.25\n",
      "29  United Kingdom    51.0       Male                240.75\n",
      "30          France    37.0     Female                165.00\n",
      "31         Germany    43.0       Male                195.25\n",
      "32           Spain    28.0     Female                 85.75\n",
      "33           Italy    46.0       Male                205.50\n",
      "34  United Kingdom    33.0     Female                135.25\n",
      "35          France    30.0       Male                120.00\n",
      "36         Germany    52.0     Female                225.75\n",
      "37           Spain    35.0       Male                155.50\n",
      "38           Italy    27.0     Female                 90.25\n",
      "39  United Kingdom    48.0       Male                210.00\n",
      "40          France    39.0     Female                170.25\n",
      "41         Germany    31.0       Male                125.75\n",
      "42           Spain    44.0     Female                190.00\n",
      "43           Italy    25.0       Male                 75.50\n",
      "44  United Kingdom    50.0     Female                220.25\n",
      "45          France     0.0       Male                160.75\n",
      "46         Germany    41.0     Female                185.00\n",
      "47           Spain    29.0       Male                105.25\n",
      "48           Italy    53.0     Female                235.50\n",
      "49  United Kingdom    32.0       Male                140.25\n",
      "50             USA    28.0     Female                180.00\n",
      "52       Australia    39.0     Female                210.50\n",
      "53           Japan    33.0       Male                145.75\n",
      "54          Brazil    47.0     Female                195.25\n",
      "55            Mars  -100.0      Alien             999999.99\n",
      "57        Atlantis  1000.0  Merperson                500.00\n",
      "60   Digital Realm     0.0         AI            1010101.01\n"
     ]
    }
   ],
   "source": [
    "#Écrire les données nettoyées dans un nouveau fichier CSV\n",
    "df.to_csv('dataframe_Nettoyer.csv')\n",
    "print(df)"
   ]
  },
  {
   "cell_type": "code",
   "execution_count": null,
   "id": "13018b5d-1aa2-4f6a-8bb4-1280962d189d",
   "metadata": {},
   "outputs": [],
   "source": []
  }
 ],
 "metadata": {
  "kernelspec": {
   "display_name": "Python 3 (ipykernel)",
   "language": "python",
   "name": "python3"
  },
  "language_info": {
   "codemirror_mode": {
    "name": "ipython",
    "version": 3
   },
   "file_extension": ".py",
   "mimetype": "text/x-python",
   "name": "python",
   "nbconvert_exporter": "python",
   "pygments_lexer": "ipython3",
   "version": "3.12.4"
  }
 },
 "nbformat": 4,
 "nbformat_minor": 5
}
